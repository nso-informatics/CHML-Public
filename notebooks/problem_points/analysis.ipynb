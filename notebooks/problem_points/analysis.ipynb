{
 "cells": [
  {
   "cell_type": "markdown",
   "metadata": {},
   "source": [
    "### Take input from the files produced by `get_false_negatives.py` \n"
   ]
  },
  {
   "cell_type": "code",
   "execution_count": null,
   "metadata": {},
   "outputs": [],
   "source": [
    "import pandas as pd\n",
    "import seaborn as sns\n",
    "import matplotlib.pyplot as plt\n",
    "\n",
    "# Load the data\n",
    "df = pd.read_csv('false_negatives_summary.csv')\n",
    "df['case_index'] = df['case_index'].astype(int)\n",
    "\n",
    "# Plot the data\n",
    "plt.figure(figsize=(12, 6))\n",
    "sns.barplot(x='case_index', y='combination_id', data=df, order=df.sort_values('combination_id', ascending=False)['case_index'])\n",
    "plt.xlabel('Case Index')\n",
    "plt.ylabel('Model Count')\n",
    "plt.savefig('case_misclassification_frequency.png', dpi=1000)\n",
    "plt.savefig('case_misclassification_frequency.eps', dpi=1000, format='eps')\n",
    "\n",
    "[index for index in df['case_index']]\n",
    "\n"
   ]
  }
 ],
 "metadata": {
  "kernelspec": {
   "display_name": "venv",
   "language": "python",
   "name": "python3"
  },
  "language_info": {
   "codemirror_mode": {
    "name": "ipython",
    "version": 3
   },
   "file_extension": ".py",
   "mimetype": "text/x-python",
   "name": "python",
   "nbconvert_exporter": "python",
   "pygments_lexer": "ipython3",
   "version": "3.12.6"
  }
 },
 "nbformat": 4,
 "nbformat_minor": 2
}
