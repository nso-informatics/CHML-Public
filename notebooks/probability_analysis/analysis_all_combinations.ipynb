{
 "cells": [
  {
   "cell_type": "code",
   "execution_count": null,
   "metadata": {},
   "outputs": [],
   "source": [
    "import pandas as pd\n",
    "import matplotlib.pyplot as plt\n",
    "import seaborn as sns\n",
    "import os\n",
    "\n",
    "# Suppress warnings\n",
    "import warnings\n",
    "warnings.filterwarnings(\"ignore\")\n",
    "\n",
    "# This is the concatenated results files with probabilities joined to the analysis data\n",
    "data = pd.read_csv('../results.csv')\n",
    "\n",
    "data = data[data['tag'] == 'all_features']\n",
    "data = data[data['combination_id'].isin([33, 286, 365, 368, 425, 434, 439, 449, 452, 487, 480])]\n",
    "data = data.drop(columns=['Unnamed: 0', \"record_id.1\", \"record_id.2\", \"id.1\", \"id.2\", \"id.3\", \"id.4\", \"model_file\", \"result_file\", \"metadata\", \"created_at\", \"latest\"])\n",
    "data = data.rename(columns={\"index\": \"case_index\"})\n",
    "\n",
    "data"
   ]
  },
  {
   "cell_type": "code",
   "execution_count": null,
   "metadata": {},
   "outputs": [],
   "source": [
    "names = [\"\\n\".join(name[1:]) for name, _ in data.groupby(['combination_id', 'model', 'resampler', 'scorer'])]\n",
    "ids = data['combination_id'].unique()\n",
    "id_lookup = dict(zip(ids, names))\n",
    "id_lookup"
   ]
  },
  {
   "cell_type": "code",
   "execution_count": null,
   "metadata": {},
   "outputs": [],
   "source": [
    "os.makedirs('density_plots', exist_ok=True)\n",
    "for name, group in data.groupby(['combination_id', 'tag']):\n",
    "    # Create a density plot by probability\n",
    "    plt.figure(figsize=(10, 6))\n",
    "    sns.kdeplot(group['proba'], log_scale=(False, True))\n",
    "    plt.title(f\"{id_lookup[name[0]]}\")\n",
    "    plt.savefig(f'density_plots/{name[0]}.png', dpi=500)\n",
    "    plt.close()\n",
    "    \n",
    "plt.figure(figsize=(10, 6))\n",
    "for name, group in data.groupby(['combination_id', 'tag']):\n",
    "    # Create a density plot by probability\n",
    "    if name[0] == 439:\n",
    "        continue\n",
    "    sns.kdeplot(group['proba'], label=id_lookup[name[0]], log_scale=(False, True))\n",
    "    \n",
    "    "
   ]
  },
  {
   "cell_type": "markdown",
   "metadata": {},
   "source": [
    "# Labelled Density Histograms "
   ]
  },
  {
   "cell_type": "code",
   "execution_count": 4,
   "metadata": {},
   "outputs": [],
   "source": [
    "# Random Under Sampler\n",
    "from imblearn.under_sampling import RandomUnderSampler\n",
    "\n",
    "def label_confusion(predicted, actual):\n",
    "    if predicted == actual:\n",
    "        return 'True Positive' if predicted == 1 else 'True Negative'\n",
    "    else:\n",
    "        return 'False Positive' if predicted == 1 else 'False Negative'\n",
    "    \n",
    "os.makedirs('labelled_density_plots', exist_ok=True)\n",
    "for normalize in [True, False]:\n",
    "    for name, group in data.groupby(['combination_id', 'tag']):\n",
    "        # Create a density plot by probability\n",
    "        plt.figure(figsize=(10, 6))\n",
    "        group['label'] = group.apply(lambda x: label_confusion(x['predicted'], x['actual']), axis=1)\n",
    "\n",
    "        if normalize:\n",
    "            ratio = group['predicted'].mean()\n",
    "            group['weight'] = group['predicted'].map({0: ratio, 1: 1-ratio})\n",
    "            group['weight'] = group['weight'] / group['weight'].sum()\n",
    "            \n",
    "            sns.histplot(group, x='proba', bins=100, hue='label', weights='weight', palette='tab10', multiple=\"stack\")\n",
    "            plt.ylabel('Density by Class')\n",
    "        else:\n",
    "            sns.histplot(group, x='proba', bins=100, hue='label', palette='tab10', multiple=\"stack\")\n",
    "            plt.xlim(0.15, 1)\n",
    "            plt.ylim(0, 250)\n",
    "            plt.ylabel('Density')\n",
    "        \n",
    "        plt.xlabel('Predicted Probability')\n",
    "        plt.title(f\"{id_lookup[name[0]]}\")\n",
    "        plt.savefig(f'labelled_density_plots/{name[0]}_{\"normalized\" if normalize else \"unnormalized\"}.png', dpi=500)\n",
    "        plt.close()\n",
    "        \n",
    "\n",
    "    "
   ]
  }
 ],
 "metadata": {
  "kernelspec": {
   "display_name": "venv",
   "language": "python",
   "name": "python3"
  },
  "language_info": {
   "codemirror_mode": {
    "name": "ipython",
    "version": 3
   },
   "file_extension": ".py",
   "mimetype": "text/x-python",
   "name": "python",
   "nbconvert_exporter": "python",
   "pygments_lexer": "ipython3",
   "version": "3.12.6"
  }
 },
 "nbformat": 4,
 "nbformat_minor": 2
}
